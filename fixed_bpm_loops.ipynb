{
 "cells": [
  {
   "cell_type": "markdown",
   "id": "1acd189f-30b4-40e8-aca7-4681ea46cd93",
   "metadata": {},
   "source": [
    "# MusicGen-Looper: Generate Fixed-BPM Loops from Text Prompts\n",
    "\n",
    "MusicGen-Looper is a Python-based tool that leverages AI to generate high-quality, fixed-BPM (beats per minute) musical loops from simple text prompts. Built upon the powerful [MusicGen](https://replicate.com/andreasjansson/musicgen-looper/readme) model for audio generation and [BeatNet](https://replicate.com/andreasjansson/musicgen-looper/readme) for precise beat detection, this project simplifies the creation of custom instrumental loops for various musical applications.\n",
    "\n",
    "## ✨ Features\n",
    "\n",
    "  * **Text-to-Loop Generation:** Describe your desired loop in plain text, and MusicGen-Looper will generate corresponding audio.\n",
    "  * **Fixed BPM Output:** All generated loops are time-stretched to precisely match your specified BPM, ensuring seamless integration into your projects.\n",
    "  * **Multiple Variations:** Get a range of creative options with multiple loop variations generated from a single prompt.\n",
    "  * **AI-Powered Prompt Enhancement (Optional):** Integrate with GPT-4o to transform concise user prompts into detailed descriptions for richer musical outputs.\n",
    "\n",
    "## ⚙️ How It Works\n",
    "\n",
    "MusicGen-Looper employs a sophisticated workflow to create your loops:\n",
    "\n",
    "1.  **Initial Music Generation:** Your text prompt, augmented with the requested BPM, is fed into MusicGen to produce an initial audio segment.\n",
    "2.  **Beat and Downbeat Detection:** BeatNet analyzes this audio to identify beats and downbeats, from which an even number of bars are extracted for looping.\n",
    "3.  **Variation Creation:** MusicGen's continuation feature is utilized. The last bar of the first generated variation serves as input to the continuation model, enabling the creation of diverse additional variations.\n",
    "4.  **Precise Tempo Matching:** All generated variations are time-stretched using the Rubberband library to ensure they perfectly align with the requested BPM.\n",
    "\n",
    "### ⚠️ Important Considerations\n",
    "\n",
    "  * **Tempo Accuracy:** An error will be thrown if the actual tempo of the first variation deviates by more than +/-10 BPM from the requested tempo.\n",
    "  * **BeatNet Limitations:** BeatNet may occasionally struggle with accurate downbeat detection, which could lead to loops starting on a beat other than the first.\n",
    "  * **MusicGen Limitations:** The generated audio is subject to MusicGen's capabilities, meaning it currently cannot generate vocals.\n",
    "\n",
    "## 🚀 Getting Started\n",
    "\n",
    "### Prerequisites\n",
    "\n",
    "  * Python 3.8+\n",
    "  * A Replicate API Token\n",
    "\n",
    "### Usage\n",
    "\n",
    "1.  **Set your Replicate API Token:**\n",
    "    Replace `\"YOUR_REPLICATE_API_TOKEN\"` with your actual token.\n",
    "\n"
   ]
  },
  {
   "cell_type": "code",
   "execution_count": null,
   "id": "af28f438-c8b0-4efd-b403-06f8cd0b0b2b",
   "metadata": {},
   "outputs": [],
   "source": [
    "import os\n",
    "os.environ[\"REPLICATE_API_TOKEN\"] = \"your_token_here\""
   ]
  },
  {
   "cell_type": "code",
   "execution_count": null,
   "id": "1c9bb080-1620-4e7d-8e9b-4052c980ea79",
   "metadata": {},
   "outputs": [],
   "source": [
    "pip install replicate\n",
    "import replicate"
   ]
  },
  {
   "cell_type": "markdown",
   "id": "b0b82f10-c21a-4c54-a6f5-d8561fedd655",
   "metadata": {},
   "source": [
    "2.  **Run the loop generation script:**\n",
    "    You can use a concise `user_prompt` and optionally use `openai/gpt-4o` to expand it into a more detailed prompt for `musicgen-looper`."
   ]
  },
  {
   "cell_type": "code",
   "execution_count": null,
   "id": "13cfb37d-e7f7-4d49-a0c8-aa34a8b92898",
   "metadata": {},
   "outputs": [],
   "source": [
    "user_prompt = \"r&b style sample. happy summer vibes. 105 b pm\"\n",
    "\n",
    "gpt_output_prompt = replicate.run(\n",
    "    \"openai/gpt-4o\",\n",
    "    input={\n",
    "        \"top_p\": 1,\n",
    "        \"prompt\": user_prompt,\n",
    "        \"temperature\": 1,\n",
    "        \"system_prompt\": \"(ONLY GIVE THE PROMPT) You are a music producer assistant. Specifically you are responsible for creating prompts to feed another AI Model to instrumental loop samples. the main focus is to get the idea of how samples are structured.\",\n",
    "        \"presence_penalty\": 0,\n",
    "        \"frequency_penalty\": 0,\n",
    "        \"max_completion_tokens\": 4096\n",
    "    }\n",
    ")\n",
    "\n",
    "# output is typically a list of strings or one long string\n",
    "gpt_output_prompt = \"\".join(gpt_output_prompt) if isinstance(gpt_output_prompt, list) else gpt_output_prompt\n",
    "print(gpt_output_prompt)\n",
    "\n",
    "output = replicate.run(\n",
    "    \"andreasjansson/musicgen-looper:f8140d0457c2b39ad8728a80736fea9a67a0ec0cd37b35f40b68cce507db2366\",\n",
    "    input = {\n",
    "    \"bpm\": 90,\n",
    "    \"prompt\": gpt_output_prompt,\n",
    "    \"max_duration\": 10,\n",
    "    \"temperature\": 1,\n",
    "    \"classifier_free_guidance\": 3\n",
    "}\n",
    ")\n",
    "print(output)\n",
    "#=> {\"variation_01\":\"https://replicate.delivery/pbxt/4OpHtfSd..."
   ]
  },
  {
   "cell_type": "markdown",
   "id": "aad26ceb-4af7-438e-9498-fdcdd25ed288",
   "metadata": {},
   "source": [
    "Print the URLs for the generated loop variations"
   ]
  },
  {
   "cell_type": "code",
   "execution_count": null,
   "id": "c5e8e208-109e-487b-b4a7-303198b191f1",
   "metadata": {},
   "outputs": [],
   "source": [
    "for key, file_output in output.items():\n",
    "    if file_output is not None:\n",
    "        print(f\"{key}: {str(file_output)}\")"
   ]
  }
 ],
 "metadata": {
  "kernelspec": {
   "display_name": "Python 3 (ipykernel)",
   "language": "python",
   "name": "python3"
  },
  "language_info": {
   "codemirror_mode": {
    "name": "ipython",
    "version": 3
   },
   "file_extension": ".py",
   "mimetype": "text/x-python",
   "name": "python",
   "nbconvert_exporter": "python",
   "pygments_lexer": "ipython3",
   "version": "3.12.9"
  }
 },
 "nbformat": 4,
 "nbformat_minor": 5
}
