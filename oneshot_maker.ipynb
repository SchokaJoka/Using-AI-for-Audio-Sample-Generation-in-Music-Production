{
 "cells": [
  {
   "cell_type": "markdown",
   "id": "c77cd333-c42b-44d4-886a-db5e4e9bfc61",
   "metadata": {},
   "source": [
    "# Oneshot Maker: Generate Drum and Instrument Oneshots with AI\n",
    "\n",
    "Oneshot Maker is a tool designed for music producers to generate short audio samples, known as \"oneshots,\" for drums and instruments using AI. It leverages the `stackadoc/stable-audio-open-1.0` model on Replicate, which is optimized for creating sound effects and production elements from text prompts.\n",
    "\n",
    "link: https://replicate.com/stackadoc/stable-audio-open-1.0?prediction=n9fehsyxaxrma0cpz2ja4c4kz0\n",
    "\n",
    "## ✨ Features\n",
    "\n",
    "* **AI-Powered Oneshots:** Generate drum and instrument oneshots from text descriptions.\n",
    "* **Optimized for Short Audio:** Ideal for creating punchy percussion sounds or melodic instrument samples.\n",
    "* **Contextual Prompt Generation:** Integrates with `openai/gpt-4o` to create detailed and appropriate prompts for the audio generation model, distinguishing between short drum sounds and pitched instrument samples (like 808s or bass sounds).\n",
    "* **Customizable Parameters:** Control aspects of the audio generation, including steps, guidance scale, and total duration.\n",
    "\n",
    "## ⚙️ How It Works\n",
    "\n",
    "The Oneshot Maker workflow involves crafting a precise text prompt and feeding it to the Stable Audio Open model.\n",
    "\n",
    "### 1. Prompt Generation\n",
    "\n",
    "A key aspect of this tool is the intelligent prompt generation. An `openai/gpt-4o` model acts as a \"music producer assistant\". Its role is to take a concise `user_prompt` (e.g., \"short electronic kick\") and expand it into a more descriptive prompt suitable for generating specific types of oneshots.\n",
    "\n",
    "* **Drum Shots:** For drum sounds, the system prompt emphasizes that they should be very short and produce a single percussion sound.\n",
    "* **Instrument Shots:** For instrument sounds (like 808s or sub-bass), the prompt is designed to be a bit longer and, crucially, to specify a single key so that the generated sample can be easily pitched.\n",
    "\n",
    "### 2. Audio Generation\n",
    "\n",
    "The refined prompt is then passed to the `stackadoc/stable-audio-open-1.0` model on Replicate. This model uses the prompt and various parameters (such as `seed`, `steps`, `cfg_scale`, `sigma_max`, `sigma_min`, `batch_size`, `sampler_type`, `seconds_start`, `seconds_total`, and `negative_prompt`) to generate the audio oneshot.\n",
    "\n",
    "### 3. Output Retrieval\n",
    "\n",
    "The generated audio is returned as a direct URL to the `.wav` file.\n",
    "\n",
    "## 🚀 Getting Started\n",
    "\n",
    "### Prerequisites\n",
    "\n",
    "* Python 3.8+\n",
    "* A Replicate API Token\n",
    "\n",
    "### Usage\n",
    "\n",
    "1.  **Set your Replicate API Token:**\n",
    "    Replace `\"YOUR_REPLICATE_API_TOKEN\"` with your actual token."
   ]
  },
  {
   "cell_type": "code",
   "execution_count": null,
   "id": "e51e47a6-105f-4444-8fd4-fcf9afecd68c",
   "metadata": {},
   "outputs": [],
   "source": [
    "import os\n",
    "os.environ[\"REPLICATE_API_TOKEN\"] = \"your_api_token_here\"\n",
    "\n",
    "# os.load.env"
   ]
  },
  {
   "cell_type": "code",
   "execution_count": null,
   "id": "f934223a-238f-4949-a7c5-3c49de836c7b",
   "metadata": {},
   "outputs": [],
   "source": [
    "pip install replicate"
   ]
  },
  {
   "cell_type": "code",
   "execution_count": null,
   "id": "3e881506-db73-4ac5-b61d-cf63e2255814",
   "metadata": {},
   "outputs": [],
   "source": [
    "import replicate"
   ]
  },
  {
   "cell_type": "markdown",
   "id": "9e7be378-5dd1-407c-8721-7514b5114a12",
   "metadata": {},
   "source": [
    "2.  **Generate a oneshot:**\n",
    "    The following example demonstrates generating a \"short electronic kick\" oneshot."
   ]
  },
  {
   "cell_type": "code",
   "execution_count": null,
   "id": "a5aea93c-98ce-42e2-83ad-5e196516d51e",
   "metadata": {},
   "outputs": [],
   "source": [
    "user_prompt = \"short electronic kick\"\n",
    "\n",
    "gpt_output_prompt = replicate.run(\n",
    "    \"openai/gpt-4o\",\n",
    "    input={\n",
    "        \"top_p\": 1,\n",
    "        \"prompt\": user_prompt,\n",
    "        \"temperature\": 1,\n",
    "        \"system_prompt\": \"(ONLY GIVE THE PROMPT) You are a music producer assistant. Specifically you are responsible for creating prompts to feed another AI Model to generate drum/instrument oneshots. the main focus is to get the idea of drum shots and instrument shots. Usually drum shots need to be very short and only make one percussion sound. instrument shots need to be longer (for example for 808 or sub bass/ bass sounds) and (very important) in one key, so that i can pitch them.\",\n",
    "        \"presence_penalty\": 0,\n",
    "        \"frequency_penalty\": 0,\n",
    "        \"max_completion_tokens\": 4096\n",
    "    }\n",
    ")\n",
    "\n",
    "# output is typically a list of strings or one long string\n",
    "gpt_output_prompt = \"\".join(gpt_output_prompt) if isinstance(gpt_output_prompt, list) else gpt_output_prompt\n",
    "print(gpt_output_prompt)\n",
    "\n",
    "audio_output = replicate.run(\n",
    "    \"stackadoc/stable-audio-open-1.0:2cd7d762d12df80757b18439c8fcd0ac3311251eb94ac6bdc026bb4ce4540868\",\n",
    "    input={\n",
    "        \"seed\": -1,\n",
    "        \"steps\": 100,\n",
    "        \"prompt\": gpt_output_prompt,\n",
    "        \"cfg_scale\": 6,\n",
    "        \"sigma_max\": 500,\n",
    "        \"sigma_min\": 0.03,\n",
    "        \"batch_size\": 1,\n",
    "        \"sampler_type\": \"dpmpp-3m-sde\",\n",
    "        \"seconds_start\": 0,\n",
    "        \"seconds_total\": 3,\n",
    "        \"negative_prompt\": \"\",\n",
    "        \"init_noise_level\": 1\n",
    "    }\n",
    ")\n",
    "\n",
    "print(audio_output)"
   ]
  }
 ],
 "metadata": {
  "kernelspec": {
   "display_name": "Python 3 (ipykernel)",
   "language": "python",
   "name": "python3"
  },
  "language_info": {
   "codemirror_mode": {
    "name": "ipython",
    "version": 3
   },
   "file_extension": ".py",
   "mimetype": "text/x-python",
   "name": "python",
   "nbconvert_exporter": "python",
   "pygments_lexer": "ipython3",
   "version": "3.12.9"
  }
 },
 "nbformat": 4,
 "nbformat_minor": 5
}
