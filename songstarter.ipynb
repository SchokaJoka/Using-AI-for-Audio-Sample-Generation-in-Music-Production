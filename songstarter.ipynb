{
 "cells": [
  {
   "cell_type": "markdown",
   "id": "bd098110-ce0c-4890-8020-2585c1495f55",
   "metadata": {},
   "source": [
    "# MusicGen Songstarter v0.2\n",
    "\n",
    "This repository utilizes the `nateraw/musicgen-songstarter-v0.2` model on Replicate to generate music samples. This model is a large, stereo MusicGen designed to assist music producers.\n",
    "\n",
    "link: https://replicate.com/nateraw/musicgen-songstarter-v0.2\n",
    "\n",
    "## Usage\n",
    "1.  **API Token:** Set your Replicate API token as an environment variable:\n",
    "\n",
    "The script generates music samples based on a text prompt. It first uses GPT-4o to refine a short user prompt into a more detailed description suitable for music generation, then feeds this description to the MusicGen model."
   ]
  },
  {
   "cell_type": "code",
   "execution_count": null,
   "id": "c29cb051-37a3-435b-b0b2-699062c3c866",
   "metadata": {},
   "outputs": [],
   "source": [
    "import os\n",
    "os.environ[\"REPLICATE_API_TOKEN\"] = \"your_token_here\""
   ]
  },
  {
   "cell_type": "code",
   "execution_count": null,
   "id": "fd77345d-cf10-4da8-a0b6-9519344b2526",
   "metadata": {},
   "outputs": [],
   "source": [
    "pip install replicate"
   ]
  },
  {
   "cell_type": "code",
   "execution_count": null,
   "id": "fcc4492b-143a-4b7b-a57d-3203f6518fa4",
   "metadata": {},
   "outputs": [],
   "source": [
    "import replicate"
   ]
  },
  {
   "cell_type": "code",
   "execution_count": null,
   "id": "49e974e6-7590-4623-ac54-ff584249afa5",
   "metadata": {},
   "outputs": [],
   "source": [
    "user_prompt = \"ehtiopian trap sample. minor scale. sad. \"\n",
    "\n",
    "\n",
    "# === Text Prompt ===\n",
    "gpt_output_prompt = replicate.run(\n",
    "    \"openai/gpt-4o\",\n",
    "    input={\n",
    "        \"top_p\": 1,\n",
    "        \"prompt\": user_prompt,\n",
    "        \"temperature\": 1,\n",
    "        \"system_prompt\": \"(ONLY GIVE THE PROMPT) You are a music producer assistant. Specifically you are responsible for creating a description of the music i want to generate to feed another AI Model. the main focus is to fully document what type of music the user wants. Write maximum 3 Sentences. make it short\",\n",
    "        \"presence_penalty\": 0,\n",
    "        \"frequency_penalty\": 0,\n",
    "        \"max_completion_tokens\": 4096\n",
    "    }\n",
    ")\n",
    "gpt_output_prompt = \"\".join(gpt_output_prompt) if isinstance(gpt_output_prompt, list) else gpt_output_prompt\n",
    "print(gpt_output_prompt)\n",
    "\n",
    "\n",
    "output = replicate.run(\n",
    "    \"nateraw/musicgen-songstarter-v0.2:020ac56a613f4494065e2e5544c7377788a8abcfbe645ecb8146634de0bc383e\",\n",
    "    input={\n",
    "        \"top_k\": 250,\n",
    "        \"top_p\": 0,\n",
    "        \"prompt\": gpt_output_prompt,\n",
    "        \"duration\": 10,\n",
    "        \"temperature\": 1,\n",
    "        \"continuation\": False,\n",
    "        \"output_format\": \"wav\",\n",
    "        \"continuation_start\": 0,\n",
    "        #\"input_audio\": \"\",\n",
    "        \"normalization_strategy\": \"loudness\",\n",
    "        \"classifier_free_guidance\": 3\n",
    "    }\n",
    ")\n",
    "print(output)"
   ]
  },
  {
   "cell_type": "code",
   "execution_count": null,
   "id": "36ce271e-a25d-4589-8c12-98fbd2fd049e",
   "metadata": {},
   "outputs": [],
   "source": [
    "for file_output in output:\n",
    "    print(file_output.url)\n"
   ]
  },
  {
   "cell_type": "code",
   "execution_count": null,
   "id": "6b8689ff-8d46-4ee6-a68a-45a39f4a3a72",
   "metadata": {},
   "outputs": [],
   "source": []
  }
 ],
 "metadata": {
  "kernelspec": {
   "display_name": "Python 3 (ipykernel)",
   "language": "python",
   "name": "python3"
  },
  "language_info": {
   "codemirror_mode": {
    "name": "ipython",
    "version": 3
   },
   "file_extension": ".py",
   "mimetype": "text/x-python",
   "name": "python",
   "nbconvert_exporter": "python",
   "pygments_lexer": "ipython3",
   "version": "3.12.9"
  }
 },
 "nbformat": 4,
 "nbformat_minor": 5
}
